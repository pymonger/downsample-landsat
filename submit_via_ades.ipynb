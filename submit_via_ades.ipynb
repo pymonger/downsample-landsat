{
 "cells": [
  {
   "cell_type": "markdown",
   "id": "02a56f3a-6a3f-4df5-8a0c-e97ad4845c01",
   "metadata": {},
   "source": [
    "# Install soamc-python-sqs-client:"
   ]
  },
  {
   "cell_type": "code",
   "execution_count": null,
   "id": "7d03ec0c-8af8-4e34-9faa-21c7befc0725",
   "metadata": {},
   "outputs": [],
   "source": [
    "%%bash\n",
    "\n",
    "# need the following line to install soamc_submitter.py as a script\n",
    "#pip install git+https://github.jpl.nasa.gov/SOAMC/soamc-python-sqs-client.git\n",
    "\n",
    "# for now, clone it instead\n",
    "cd /tmp\n",
    "git clone https://github.jpl.nasa.gov/SOAMC/soamc-python-sqs-client.git\n",
    "cd soamc-python-sqs-client\n",
    "pip install ."
   ]
  },
  {
   "cell_type": "markdown",
   "id": "88faddeb-8927-424c-a8e3-cb33a8d5ea86",
   "metadata": {},
   "source": [
    "# Create the `sqsconfig.py` configuration file so that you can communicate with the WPST listener in EKS:"
   ]
  },
  {
   "cell_type": "code",
   "execution_count": null,
   "id": "f434f35e-5603-48f4-aed3-4af850fb4736",
   "metadata": {},
   "outputs": [],
   "source": [
    "import getpass\n",
    "\n",
    "# prompt for AWS account ID\n",
    "aws_account_id = input(\"Enter AWS account ID then press <Enter>: \")\n",
    "\n",
    "# prompt for AWS access key\n",
    "print(\"Enter AWS access key then press <Enter>.\")\n",
    "aws_access_key = getpass.getpass()\n",
    "\n",
    "# prompt for AWS secret key\n",
    "print(\"Enter AWS secret key then press <Enter>.\")\n",
    "aws_secret_key = getpass.getpass()\n",
    "\n",
    "# prompt for AWS region\n",
    "aws_region = input(\"Enter AWS region then press <Enter>: \")\n",
    "\n",
    "# prompt for SQS name\n",
    "listener_queue = input(\"Enter SQS queue name then press <Enter>: \")\n",
    "\n",
    "# create the config file\n",
    "with open(\"sqsconfig.py\", \"w\") as f:\n",
    "    f.write(f\"\"\"[AWS_SQS_QUEUE]\n",
    "AWS_ACCOUNT_ID={aws_account_id}\n",
    "region_name={aws_region}\n",
    "aws_access_key = {aws_access_key}\n",
    "aws_secret_key = {aws_secret_key}\n",
    "listener_queue = {listener_queue}\n",
    "poll_interval = 60\n",
    "queue_visibility_timeout = 600\n",
    "error_queue_name = None\n",
    "error_queue_visibility_timeout = 600\n",
    "reply_timeout_sec = 20\n",
    "execute_reply_timeout_sec = 600\n",
    "force_delete = False\n",
    "wait_time = 0\n",
    "max_number_of_messages =  1\n",
    "fifo_group_id = SOAMC_DEFAULT_GROUP1\n",
    "queue_url = https://sqs.{aws_region}.amazonaws.com/{aws_account_id}/{listener_queue}\n",
    "\n",
    "[DAEMON]\n",
    "PID_FILE_PATH=/home/jovyan/sqs_daemon.pid\n",
    "DAEMON_OUTPUT_OVERWRITE=False \n",
    "DAEMON_OUTPUT_FILE=/home/jovyan/test_out\n",
    "DAEMON_ERROR_FILE=/home/jovyan/error_out\n",
    "DAEMON_STDIN=/dev/null\n",
    "\n",
    "[ADES_WPS-T_SERVER]\n",
    "wps_server_url=http://127.0.0.1:5000/\n",
    "\"\"\")"
   ]
  },
  {
   "cell_type": "markdown",
   "id": "4ff75b3b-ef9c-4649-9a23-98b9fd8574e9",
   "metadata": {},
   "source": [
    "# Deploy the `downsample-landsat` version 2.0.0 to the ADES: "
   ]
  },
  {
   "cell_type": "code",
   "execution_count": null,
   "id": "f0f12d12-708f-46d6-b454-14c7105456d8",
   "metadata": {},
   "outputs": [],
   "source": [
    "%%bash\n",
    "\n",
    "python /tmp/soamc-python-sqs-client/soamc_submitter.py \\\n",
    "  deployprocess \\\n",
    "  https://raw.githubusercontent.com/pymonger/downsample-landsat/2.0.0/workflow-application-descriptor.json"
   ]
  },
  {
   "cell_type": "markdown",
   "id": "0d4792bf-0894-4c41-9906-f65ecd1958b3",
   "metadata": {},
   "source": [
    "# Submit job"
   ]
  },
  {
   "cell_type": "code",
   "execution_count": null,
   "id": "b2ebf01b-e0ef-414d-b4f3-d4fd1b0895bc",
   "metadata": {},
   "outputs": [],
   "source": [
    "import json\n",
    "\n",
    "# workflow job parameters\n",
    "job_params = {\n",
    "    \"workflow_input_url\": \"https://s3-us-west-2.amazonaws.com/landsat-pds/L8/010/117/LC80101172015002LGN00/LC80101172015002LGN00_BQA.TIF\",\n",
    "    \"workflow_min_spin_time\": 15,\n",
    "    \"workflow_max_spin_time\": 30,\n",
    "    \"workflow_aws_access_key_id\": None,\n",
    "    \"workflow_aws_secret_access_key\": None,\n",
    "    \"workflow_base_dataset_url\": \"s3://hysds-dataset-bucket-gman-test/eks-via-ades\"\n",
    "}\n",
    "with open(\"/tmp/workflow-inputs.json\", \"w\") as f:\n",
    "    json.dump(job_params, f, indent=2)"
   ]
  },
  {
   "cell_type": "code",
   "execution_count": null,
   "id": "284b1d74-de51-4bc7-87b8-fdff094d87f4",
   "metadata": {},
   "outputs": [],
   "source": [
    "%%bash\n",
    "\n",
    "python /tmp/soamc-python-sqs-client/soamc_submitter.py \\\n",
    "  execute downsample-landsat-workflow-2.0.0 \\\n",
    "  /tmp/workflow-inputs.json "
   ]
  },
  {
   "cell_type": "markdown",
   "id": "9101374a-6fd4-4f01-bdbe-7952fc7f2cfa",
   "metadata": {},
   "source": [
    "# Monitor job"
   ]
  },
  {
   "cell_type": "code",
   "execution_count": null,
   "id": "bff1ef9e-a5fc-4fb0-bdf3-2fdef22bf5bb",
   "metadata": {},
   "outputs": [],
   "source": [
    "# prompt for job id\n",
    "job_id = input(\"Enter jobID and press <Enter>: \")"
   ]
  },
  {
   "cell_type": "code",
   "execution_count": null,
   "id": "000fb133-53a7-4168-8f8d-08f1c7395852",
   "metadata": {},
   "outputs": [],
   "source": [
    "%%bash -s \"$job_id\"\n",
    "\n",
    "python /tmp/soamc-python-sqs-client/soamc_submitter.py \\\n",
    "  getstatus downsample-landsat-workflow-2.0.0 $1"
   ]
  },
  {
   "cell_type": "markdown",
   "id": "572419fa-8e80-446c-a019-435b91a99a32",
   "metadata": {},
   "source": [
    "# Get result"
   ]
  },
  {
   "cell_type": "code",
   "execution_count": null,
   "id": "3b70f54d-ba7c-4bf2-b226-1af03a3079dd",
   "metadata": {},
   "outputs": [],
   "source": [
    "%%bash -s \"$job_id\"\n",
    "\n",
    "python /tmp/soamc-python-sqs-client/soamc_submitter.py \\\n",
    "  getresult downsample-landsat-workflow-2.0.0 $1"
   ]
  }
 ],
 "metadata": {
  "kernelspec": {
   "display_name": "Python 3 (ipykernel)",
   "language": "python",
   "name": "python3"
  },
  "language_info": {
   "codemirror_mode": {
    "name": "ipython",
    "version": 3
   },
   "file_extension": ".py",
   "mimetype": "text/x-python",
   "name": "python",
   "nbconvert_exporter": "python",
   "pygments_lexer": "ipython3",
   "version": "3.7.12"
  }
 },
 "nbformat": 4,
 "nbformat_minor": 5
}
